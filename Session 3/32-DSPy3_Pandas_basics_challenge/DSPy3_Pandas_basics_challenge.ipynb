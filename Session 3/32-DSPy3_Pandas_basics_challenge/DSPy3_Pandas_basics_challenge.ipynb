{
 "cells": [
  {
   "cell_type": "markdown",
   "metadata": {},
   "source": [
    "<h1>Table of Contents<span class=\"tocSkip\"></span></h1>\n",
    "<div class=\"toc\"><ul class=\"toc-item\"></ul></div>"
   ]
  },
  {
   "cell_type": "markdown",
   "metadata": {},
   "source": [
    "<img src=\"mioti.png\" style=\"height: 100px\">\n",
    "<center style=\"color:#888\">Data Science with Python</center>\n",
    "\n",
    "# DSPy3 Pandas basics. Challenge."
   ]
  },
  {
   "cell_type": "markdown",
   "metadata": {},
   "source": [
    "**Inicialización**"
   ]
  },
  {
   "cell_type": "code",
   "execution_count": 1,
   "metadata": {},
   "outputs": [],
   "source": [
    "import pandas as pd\n",
    "import matplotlib.pyplot as plt\n",
    "%matplotlib inline "
   ]
  },
  {
   "cell_type": "markdown",
   "metadata": {},
   "source": [
    "Vamos a trabajar con un dataset que contiene las multas de circulación que el Ayuntamiento de Madrid ha tramitado durante el mes de octubre de 2022. Se encuentra en el fichero `Multas_octubre_2022.csv`. Mas información [aqui](https://datos.madrid.es/portal/site/egob)."
   ]
  },
  {
   "cell_type": "markdown",
   "metadata": {},
   "source": [
    "<img src=\"multa.jpg\" style=\"width:500px\">"
   ]
  },
  {
   "cell_type": "code",
   "execution_count": 8,
   "metadata": {},
   "outputs": [
    {
     "data": {
      "text/plain": [
       "IMP_BOL\n",
       "200.0     86109\n",
       "90.0      66556\n",
       "100.0     38209\n",
       "30.0      20285\n",
       "60.0      17703\n",
       "300.0      2471\n",
       "50.0       1874\n",
       "500.0       683\n",
       "1000.0      578\n",
       "400.0       454\n",
       "Name: count, dtype: int64"
      ]
     },
     "execution_count": 8,
     "metadata": {},
     "output_type": "execute_result"
    }
   ],
   "source": [
    "df = pd.read_csv(\"Multas_octubre_2022.csv\", sep=',')\n",
    "df['IMP_BOL'].value_counts()"
   ]
  },
  {
   "cell_type": "code",
   "execution_count": 3,
   "metadata": {},
   "outputs": [
    {
     "data": {
      "text/plain": [
       "CALIFICACION     object\n",
       "LUGAR            object\n",
       "MES               int64\n",
       "ANIO              int64\n",
       "HORA            float64\n",
       "IMP_BOL         float64\n",
       "DESCUENTO        object\n",
       "PUNTOS            int64\n",
       "DENUNCIANTE      object\n",
       "HECHO-BOL        object\n",
       "VEL_LIMITE      float64\n",
       "VEL_CIRCULA     float64\n",
       "COORDENADA-X     object\n",
       "COORDENADA-Y     object\n",
       "dtype: object"
      ]
     },
     "execution_count": 3,
     "metadata": {},
     "output_type": "execute_result"
    }
   ],
   "source": [
    "# show data types all columns\n",
    "df.dtypes"
   ]
  },
  {
   "cell_type": "code",
   "execution_count": 11,
   "metadata": {},
   "outputs": [
    {
     "data": {
      "text/plain": [
       "0         SI\n",
       "1         SI\n",
       "2         SI\n",
       "3         SI\n",
       "4         SI\n",
       "          ..\n",
       "234917    SI\n",
       "234918    SI\n",
       "234919    NO\n",
       "234920    NO\n",
       "234921    NO\n",
       "Name: DESCUENTO, Length: 234922, dtype: object"
      ]
     },
     "execution_count": 11,
     "metadata": {},
     "output_type": "execute_result"
    }
   ],
   "source": [
    "df['DESCUENTO']"
   ]
  },
  {
   "cell_type": "code",
   "execution_count": 4,
   "metadata": {},
   "outputs": [
    {
     "data": {
      "text/plain": [
       "DENUNCIANTE\n",
       "SER                     88423\n",
       "AGENTES DE MOVILIDAD    82192\n",
       "POLICIA MUNICIPAL       62433\n",
       "SACE                     1874\n",
       "Name: count, dtype: int64"
      ]
     },
     "execution_count": 4,
     "metadata": {},
     "output_type": "execute_result"
    }
   ],
   "source": [
    "df['DENUNCIANTE'].value_counts()"
   ]
  },
  {
   "cell_type": "markdown",
   "metadata": {},
   "source": [
    "**Ejercicio 1:** Muestra un dataframe con las 10 multas con mayor sanción y el motivo de la multa."
   ]
  },
  {
   "cell_type": "code",
   "execution_count": 5,
   "metadata": {},
   "outputs": [
    {
     "data": {
      "text/html": [
       "<div>\n",
       "<style scoped>\n",
       "    .dataframe tbody tr th:only-of-type {\n",
       "        vertical-align: middle;\n",
       "    }\n",
       "\n",
       "    .dataframe tbody tr th {\n",
       "        vertical-align: top;\n",
       "    }\n",
       "\n",
       "    .dataframe thead th {\n",
       "        text-align: right;\n",
       "    }\n",
       "</style>\n",
       "<table border=\"1\" class=\"dataframe\">\n",
       "  <thead>\n",
       "    <tr style=\"text-align: right;\">\n",
       "      <th></th>\n",
       "      <th>IMP_BOL</th>\n",
       "      <th>HECHO-BOL</th>\n",
       "    </tr>\n",
       "  </thead>\n",
       "  <tbody>\n",
       "    <tr>\n",
       "      <th>130796</th>\n",
       "      <td>1000.0</td>\n",
       "      <td>CONDUCIR CON UNA TASA DE ALCOHOL NO PERMITIDA ...</td>\n",
       "    </tr>\n",
       "    <tr>\n",
       "      <th>130825</th>\n",
       "      <td>1000.0</td>\n",
       "      <td>CONDUCIR CON PRESENCIA DE DROGAS EN EL ORGANIS...</td>\n",
       "    </tr>\n",
       "    <tr>\n",
       "      <th>130884</th>\n",
       "      <td>1000.0</td>\n",
       "      <td>CONDUCIR CON UNA TASA DE ALCOHOL NO PERMITIDA ...</td>\n",
       "    </tr>\n",
       "    <tr>\n",
       "      <th>130894</th>\n",
       "      <td>1000.0</td>\n",
       "      <td>CONDUCIR CON UNA TASA DE ALCOHOL NO PERMITIDA ...</td>\n",
       "    </tr>\n",
       "    <tr>\n",
       "      <th>130926</th>\n",
       "      <td>1000.0</td>\n",
       "      <td>CONDUCIR CON UNA TASA DE ALCOHOL NO PERMITIDA ...</td>\n",
       "    </tr>\n",
       "    <tr>\n",
       "      <th>130933</th>\n",
       "      <td>1000.0</td>\n",
       "      <td>CONDUCIR CON UNA TASA DE ALCOHOL NO PERMITIDA ...</td>\n",
       "    </tr>\n",
       "    <tr>\n",
       "      <th>130950</th>\n",
       "      <td>1000.0</td>\n",
       "      <td>CONDUCIR CON UNA TASA DE ALCOHOL NO PERMITIDA ...</td>\n",
       "    </tr>\n",
       "    <tr>\n",
       "      <th>130952</th>\n",
       "      <td>1000.0</td>\n",
       "      <td>CONDUCIR CON UNA TASA DE ALCOHOL NO PERMITIDA ...</td>\n",
       "    </tr>\n",
       "    <tr>\n",
       "      <th>130955</th>\n",
       "      <td>1000.0</td>\n",
       "      <td>CONDUCIR CON UNA TASA DE ALCOHOL NO PERMITIDA ...</td>\n",
       "    </tr>\n",
       "    <tr>\n",
       "      <th>130959</th>\n",
       "      <td>1000.0</td>\n",
       "      <td>CONDUCIR CON UNA TASA DE ALCOHOL NO PERMITIDA ...</td>\n",
       "    </tr>\n",
       "  </tbody>\n",
       "</table>\n",
       "</div>"
      ],
      "text/plain": [
       "        IMP_BOL                                          HECHO-BOL\n",
       "130796   1000.0  CONDUCIR CON UNA TASA DE ALCOHOL NO PERMITIDA ...\n",
       "130825   1000.0  CONDUCIR CON PRESENCIA DE DROGAS EN EL ORGANIS...\n",
       "130884   1000.0  CONDUCIR CON UNA TASA DE ALCOHOL NO PERMITIDA ...\n",
       "130894   1000.0  CONDUCIR CON UNA TASA DE ALCOHOL NO PERMITIDA ...\n",
       "130926   1000.0  CONDUCIR CON UNA TASA DE ALCOHOL NO PERMITIDA ...\n",
       "130933   1000.0  CONDUCIR CON UNA TASA DE ALCOHOL NO PERMITIDA ...\n",
       "130950   1000.0  CONDUCIR CON UNA TASA DE ALCOHOL NO PERMITIDA ...\n",
       "130952   1000.0  CONDUCIR CON UNA TASA DE ALCOHOL NO PERMITIDA ...\n",
       "130955   1000.0  CONDUCIR CON UNA TASA DE ALCOHOL NO PERMITIDA ...\n",
       "130959   1000.0  CONDUCIR CON UNA TASA DE ALCOHOL NO PERMITIDA ..."
      ]
     },
     "execution_count": 5,
     "metadata": {},
     "output_type": "execute_result"
    }
   ],
   "source": [
    "higher_fines = df.nlargest(10, 'IMP_BOL')[['IMP_BOL', 'HECHO-BOL']]\n",
    "higher_fines"
   ]
  },
  {
   "cell_type": "markdown",
   "metadata": {},
   "source": [
    "**Ejercicio 2:** Encuentra la mayor diferencia en % de velocidad entre la velocidad permitida y a la que se circulaba."
   ]
  },
  {
   "cell_type": "code",
   "execution_count": 6,
   "metadata": {},
   "outputs": [
    {
     "name": "stdout",
     "output_type": "stream",
     "text": [
      "El mayor exceso de velocidad fue del 146.7%\n",
      "\n",
      "Detalles de la infracción:\n",
      "        VEL_LIMITE  VEL_CIRCULA  pct_exceso  \\\n",
      "191192        30.0         74.0  146.666667   \n",
      "\n",
      "                                           LUGAR  \n",
      "191192     MADR CR ACCESO ESTACION A              \n"
     ]
    }
   ],
   "source": [
    "df['pct_exceso'] = (df['VEL_CIRCULA'] - df['VEL_LIMITE']) / df['VEL_LIMITE'] * 100\n",
    "\n",
    "max_pct = df['pct_exceso'].max()\n",
    "\n",
    "print(f\"The highest speed excess was {max_pct:.1f}%\")\n",
    "print(\"\\nViolation details:\")\n",
    "print(df.loc[df['pct_exceso'] == max_pct, ['VEL_LIMITE', 'VEL_CIRCULA', 'pct_exceso', 'LUGAR']])\n"
   ]
  },
  {
   "cell_type": "markdown",
   "metadata": {},
   "source": [
    "**Ejercicio 3:** ¿Y la multa en la que se cirbulaba a mayor velocidad?"
   ]
  },
  {
   "cell_type": "code",
   "execution_count": 19,
   "metadata": {},
   "outputs": [
    {
     "name": "stdout",
     "output_type": "stream",
     "text": [
      "The highest recorded speed was 154 km/h\n",
      "\n",
      "Violation details:\n",
      "        VEL_LIMITE  VEL_CIRCULA                                     LUGAR\n",
      "168291        90.0        154.0  M-30 CALZADA 2 KM 27.000                \n",
      "177227        90.0        154.0  M-30 C-2 KM 7,800 CR-CRAL               \n"
     ]
    }
   ],
   "source": [
    "max_speed = df['VEL_CIRCULA'].max()\n",
    "\n",
    "print(f\"The highest recorded speed was {max_speed:.0f} km/h\")\n",
    "print(\"\\nViolation details:\")\n",
    "print(df.loc[df['VEL_CIRCULA'] == max_speed, ['VEL_LIMITE', 'VEL_CIRCULA', 'LUGAR']])\n"
   ]
  },
  {
   "cell_type": "markdown",
   "metadata": {},
   "source": [
    "**Ejercicio 4:** De todas las multas tramitadas en Octubre, ¿cuántas han sido tramitadas por agentes de movilidad?"
   ]
  },
  {
   "cell_type": "code",
   "execution_count": 8,
   "metadata": {},
   "outputs": [
    {
     "name": "stdout",
     "output_type": "stream",
     "text": [
      "Number of fines by mobility agents in October: 82192\n"
     ]
    },
    {
     "data": {
      "text/html": [
       "<div>\n",
       "<style scoped>\n",
       "    .dataframe tbody tr th:only-of-type {\n",
       "        vertical-align: middle;\n",
       "    }\n",
       "\n",
       "    .dataframe tbody tr th {\n",
       "        vertical-align: top;\n",
       "    }\n",
       "\n",
       "    .dataframe thead th {\n",
       "        text-align: right;\n",
       "    }\n",
       "</style>\n",
       "<table border=\"1\" class=\"dataframe\">\n",
       "  <thead>\n",
       "    <tr style=\"text-align: right;\">\n",
       "      <th></th>\n",
       "      <th>CALIFICACION</th>\n",
       "      <th>LUGAR</th>\n",
       "      <th>MES</th>\n",
       "      <th>ANIO</th>\n",
       "      <th>HORA</th>\n",
       "      <th>IMP_BOL</th>\n",
       "      <th>DESCUENTO</th>\n",
       "      <th>PUNTOS</th>\n",
       "      <th>DENUNCIANTE</th>\n",
       "      <th>HECHO-BOL</th>\n",
       "      <th>VEL_LIMITE</th>\n",
       "      <th>VEL_CIRCULA</th>\n",
       "      <th>COORDENADA-X</th>\n",
       "      <th>COORDENADA-Y</th>\n",
       "      <th>pct_exceso</th>\n",
       "    </tr>\n",
       "  </thead>\n",
       "  <tbody>\n",
       "    <tr>\n",
       "      <th>3901</th>\n",
       "      <td>GRAVE</td>\n",
       "      <td>AV ANDALUCIA ESQ ALCOCER</td>\n",
       "      <td>10</td>\n",
       "      <td>2022</td>\n",
       "      <td>7.28</td>\n",
       "      <td>200.0</td>\n",
       "      <td>SI</td>\n",
       "      <td>4</td>\n",
       "      <td>AGENTES DE MOVILIDAD</td>\n",
       "      <td>REBASAR UN SEMÁFORO EN FASE ROJA.             ...</td>\n",
       "      <td>NaN</td>\n",
       "      <td>NaN</td>\n",
       "      <td></td>\n",
       "      <td></td>\n",
       "      <td>NaN</td>\n",
       "    </tr>\n",
       "    <tr>\n",
       "      <th>3902</th>\n",
       "      <td>GRAVE</td>\n",
       "      <td>MENENDEZ PELAYO H. NIÑO JESUS</td>\n",
       "      <td>10</td>\n",
       "      <td>2022</td>\n",
       "      <td>7.36</td>\n",
       "      <td>200.0</td>\n",
       "      <td>SI</td>\n",
       "      <td>4</td>\n",
       "      <td>AGENTES DE MOVILIDAD</td>\n",
       "      <td>REBASAR UN SEMÁFORO EN FASE ROJA.             ...</td>\n",
       "      <td>NaN</td>\n",
       "      <td>NaN</td>\n",
       "      <td></td>\n",
       "      <td></td>\n",
       "      <td>NaN</td>\n",
       "    </tr>\n",
       "    <tr>\n",
       "      <th>3903</th>\n",
       "      <td>GRAVE</td>\n",
       "      <td>AV MEDITERRANEO 32</td>\n",
       "      <td>10</td>\n",
       "      <td>2022</td>\n",
       "      <td>7.38</td>\n",
       "      <td>200.0</td>\n",
       "      <td>SI</td>\n",
       "      <td>4</td>\n",
       "      <td>AGENTES DE MOVILIDAD</td>\n",
       "      <td>REBASAR UN SEMÁFORO EN FASE ROJA.             ...</td>\n",
       "      <td>NaN</td>\n",
       "      <td>NaN</td>\n",
       "      <td></td>\n",
       "      <td></td>\n",
       "      <td>NaN</td>\n",
       "    </tr>\n",
       "    <tr>\n",
       "      <th>3907</th>\n",
       "      <td>GRAVE</td>\n",
       "      <td>JOSE ABASCAL - SANTA ENGRACIA</td>\n",
       "      <td>10</td>\n",
       "      <td>2022</td>\n",
       "      <td>7.48</td>\n",
       "      <td>200.0</td>\n",
       "      <td>SI</td>\n",
       "      <td>4</td>\n",
       "      <td>AGENTES DE MOVILIDAD</td>\n",
       "      <td>REBASAR UN SEMÁFORO EN FASE ROJA.             ...</td>\n",
       "      <td>NaN</td>\n",
       "      <td>NaN</td>\n",
       "      <td></td>\n",
       "      <td></td>\n",
       "      <td>NaN</td>\n",
       "    </tr>\n",
       "    <tr>\n",
       "      <th>4071</th>\n",
       "      <td>GRAVE</td>\n",
       "      <td>AV POBLADOS-EST. ALUCHE F 56</td>\n",
       "      <td>10</td>\n",
       "      <td>2022</td>\n",
       "      <td>7.48</td>\n",
       "      <td>200.0</td>\n",
       "      <td>SI</td>\n",
       "      <td>4</td>\n",
       "      <td>AGENTES DE MOVILIDAD</td>\n",
       "      <td>REBASAR UN SEMÁFORO EN FASE ROJA.             ...</td>\n",
       "      <td>NaN</td>\n",
       "      <td>NaN</td>\n",
       "      <td></td>\n",
       "      <td></td>\n",
       "      <td>NaN</td>\n",
       "    </tr>\n",
       "    <tr>\n",
       "      <th>...</th>\n",
       "      <td>...</td>\n",
       "      <td>...</td>\n",
       "      <td>...</td>\n",
       "      <td>...</td>\n",
       "      <td>...</td>\n",
       "      <td>...</td>\n",
       "      <td>...</td>\n",
       "      <td>...</td>\n",
       "      <td>...</td>\n",
       "      <td>...</td>\n",
       "      <td>...</td>\n",
       "      <td>...</td>\n",
       "      <td>...</td>\n",
       "      <td>...</td>\n",
       "      <td>...</td>\n",
       "    </tr>\n",
       "    <tr>\n",
       "      <th>234902</th>\n",
       "      <td>GRAVE</td>\n",
       "      <td>KM M ,7 PO EXTREMADURA</td>\n",
       "      <td>10</td>\n",
       "      <td>2022</td>\n",
       "      <td>8.43</td>\n",
       "      <td>100.0</td>\n",
       "      <td>SI</td>\n",
       "      <td>0</td>\n",
       "      <td>AGENTES DE MOVILIDAD</td>\n",
       "      <td>SOBREPASAR LA VELOCIDAD MÁXIMA EN VÍAS LIMITAD...</td>\n",
       "      <td>70.0</td>\n",
       "      <td>79.0</td>\n",
       "      <td></td>\n",
       "      <td></td>\n",
       "      <td>12.857143</td>\n",
       "    </tr>\n",
       "    <tr>\n",
       "      <th>234903</th>\n",
       "      <td>GRAVE</td>\n",
       "      <td>KM M ,7 PO EXTREMADURA</td>\n",
       "      <td>10</td>\n",
       "      <td>2022</td>\n",
       "      <td>8.59</td>\n",
       "      <td>100.0</td>\n",
       "      <td>SI</td>\n",
       "      <td>0</td>\n",
       "      <td>AGENTES DE MOVILIDAD</td>\n",
       "      <td>SOBREPASAR LA VELOCIDAD MÁXIMA EN VÍAS LIMITAD...</td>\n",
       "      <td>70.0</td>\n",
       "      <td>83.0</td>\n",
       "      <td></td>\n",
       "      <td></td>\n",
       "      <td>18.571429</td>\n",
       "    </tr>\n",
       "    <tr>\n",
       "      <th>234904</th>\n",
       "      <td>GRAVE</td>\n",
       "      <td>KM M ,7 PO EXTREMADURA</td>\n",
       "      <td>10</td>\n",
       "      <td>2022</td>\n",
       "      <td>9.01</td>\n",
       "      <td>100.0</td>\n",
       "      <td>SI</td>\n",
       "      <td>0</td>\n",
       "      <td>AGENTES DE MOVILIDAD</td>\n",
       "      <td>SOBREPASAR LA VELOCIDAD MÁXIMA EN VÍAS LIMITAD...</td>\n",
       "      <td>70.0</td>\n",
       "      <td>77.0</td>\n",
       "      <td></td>\n",
       "      <td></td>\n",
       "      <td>10.000000</td>\n",
       "    </tr>\n",
       "    <tr>\n",
       "      <th>234905</th>\n",
       "      <td>GRAVE</td>\n",
       "      <td>KM M ,7 PO EXTREMADURA</td>\n",
       "      <td>10</td>\n",
       "      <td>2022</td>\n",
       "      <td>9.04</td>\n",
       "      <td>100.0</td>\n",
       "      <td>SI</td>\n",
       "      <td>0</td>\n",
       "      <td>AGENTES DE MOVILIDAD</td>\n",
       "      <td>SOBREPASAR LA VELOCIDAD MÁXIMA EN VÍAS LIMITAD...</td>\n",
       "      <td>70.0</td>\n",
       "      <td>76.0</td>\n",
       "      <td></td>\n",
       "      <td></td>\n",
       "      <td>8.571429</td>\n",
       "    </tr>\n",
       "    <tr>\n",
       "      <th>234906</th>\n",
       "      <td>GRAVE</td>\n",
       "      <td>KM M ,6 PO EXTREMADURA</td>\n",
       "      <td>10</td>\n",
       "      <td>2022</td>\n",
       "      <td>12.18</td>\n",
       "      <td>100.0</td>\n",
       "      <td>SI</td>\n",
       "      <td>0</td>\n",
       "      <td>AGENTES DE MOVILIDAD</td>\n",
       "      <td>SOBREPASAR LA VELOCIDAD MÁXIMA EN VÍAS LIMITAD...</td>\n",
       "      <td>70.0</td>\n",
       "      <td>82.0</td>\n",
       "      <td></td>\n",
       "      <td></td>\n",
       "      <td>17.142857</td>\n",
       "    </tr>\n",
       "  </tbody>\n",
       "</table>\n",
       "<p>82192 rows × 15 columns</p>\n",
       "</div>"
      ],
      "text/plain": [
       "       CALIFICACION                                     LUGAR  MES  ANIO  \\\n",
       "3901     GRAVE       AV ANDALUCIA ESQ ALCOCER                   10  2022   \n",
       "3902     GRAVE       MENENDEZ PELAYO H. NIÑO JESUS              10  2022   \n",
       "3903     GRAVE       AV MEDITERRANEO 32                         10  2022   \n",
       "3907     GRAVE       JOSE ABASCAL - SANTA ENGRACIA              10  2022   \n",
       "4071     GRAVE       AV POBLADOS-EST. ALUCHE F 56               10  2022   \n",
       "...             ...                                       ...  ...   ...   \n",
       "234902   GRAVE       KM M ,7 PO EXTREMADURA                     10  2022   \n",
       "234903   GRAVE       KM M ,7 PO EXTREMADURA                     10  2022   \n",
       "234904   GRAVE       KM M ,7 PO EXTREMADURA                     10  2022   \n",
       "234905   GRAVE       KM M ,7 PO EXTREMADURA                     10  2022   \n",
       "234906   GRAVE       KM M ,6 PO EXTREMADURA                     10  2022   \n",
       "\n",
       "         HORA  IMP_BOL DESCUENTO  PUNTOS           DENUNCIANTE  \\\n",
       "3901     7.28    200.0        SI       4  AGENTES DE MOVILIDAD   \n",
       "3902     7.36    200.0        SI       4  AGENTES DE MOVILIDAD   \n",
       "3903     7.38    200.0        SI       4  AGENTES DE MOVILIDAD   \n",
       "3907     7.48    200.0        SI       4  AGENTES DE MOVILIDAD   \n",
       "4071     7.48    200.0        SI       4  AGENTES DE MOVILIDAD   \n",
       "...       ...      ...       ...     ...                   ...   \n",
       "234902   8.43    100.0        SI       0  AGENTES DE MOVILIDAD   \n",
       "234903   8.59    100.0        SI       0  AGENTES DE MOVILIDAD   \n",
       "234904   9.01    100.0        SI       0  AGENTES DE MOVILIDAD   \n",
       "234905   9.04    100.0        SI       0  AGENTES DE MOVILIDAD   \n",
       "234906  12.18    100.0        SI       0  AGENTES DE MOVILIDAD   \n",
       "\n",
       "                                                HECHO-BOL  VEL_LIMITE  \\\n",
       "3901    REBASAR UN SEMÁFORO EN FASE ROJA.             ...         NaN   \n",
       "3902    REBASAR UN SEMÁFORO EN FASE ROJA.             ...         NaN   \n",
       "3903    REBASAR UN SEMÁFORO EN FASE ROJA.             ...         NaN   \n",
       "3907    REBASAR UN SEMÁFORO EN FASE ROJA.             ...         NaN   \n",
       "4071    REBASAR UN SEMÁFORO EN FASE ROJA.             ...         NaN   \n",
       "...                                                   ...         ...   \n",
       "234902  SOBREPASAR LA VELOCIDAD MÁXIMA EN VÍAS LIMITAD...        70.0   \n",
       "234903  SOBREPASAR LA VELOCIDAD MÁXIMA EN VÍAS LIMITAD...        70.0   \n",
       "234904  SOBREPASAR LA VELOCIDAD MÁXIMA EN VÍAS LIMITAD...        70.0   \n",
       "234905  SOBREPASAR LA VELOCIDAD MÁXIMA EN VÍAS LIMITAD...        70.0   \n",
       "234906  SOBREPASAR LA VELOCIDAD MÁXIMA EN VÍAS LIMITAD...        70.0   \n",
       "\n",
       "        VEL_CIRCULA COORDENADA-X COORDENADA-Y  pct_exceso  \n",
       "3901            NaN                                   NaN  \n",
       "3902            NaN                                   NaN  \n",
       "3903            NaN                                   NaN  \n",
       "3907            NaN                                   NaN  \n",
       "4071            NaN                                   NaN  \n",
       "...             ...          ...          ...         ...  \n",
       "234902         79.0                             12.857143  \n",
       "234903         83.0                             18.571429  \n",
       "234904         77.0                             10.000000  \n",
       "234905         76.0                              8.571429  \n",
       "234906         82.0                             17.142857  \n",
       "\n",
       "[82192 rows x 15 columns]"
      ]
     },
     "execution_count": 8,
     "metadata": {},
     "output_type": "execute_result"
    }
   ],
   "source": [
    "df['DENUNCIANTE'] = df['DENUNCIANTE'].astype('category')\n",
    "october_fines_mobility_agents = df[(df['MES'] == 10) & (df['DENUNCIANTE'] == 'AGENTES DE MOVILIDAD')]\n",
    "print(f\"Number of fines by mobility agents in October: {len(october_fines_mobility_agents)}\")\n",
    "october_fines_mobility_agents\n"
   ]
  },
  {
   "cell_type": "markdown",
   "metadata": {},
   "source": [
    "**Ejercicio 5:** ¿Cuánto % de multas han tenido descuento por pronto pago?"
   ]
  },
  {
   "cell_type": "code",
   "execution_count": 17,
   "metadata": {},
   "outputs": [
    {
     "name": "stdout",
     "output_type": "stream",
     "text": [
      "Percentage of fines with discount: 95.36%\n"
     ]
    }
   ],
   "source": [
    "total_fines = len(df)\n",
    "fines_with_discount = len(df[df['DESCUENTO'] == 'SI'])\n",
    "\n",
    "discount_percentage = (fines_with_discount / total_fines) * 100\n",
    "\n",
    "print(f\"Percentage of fines with discount: {discount_percentage:.2f}%\")\n"
   ]
  },
  {
   "cell_type": "markdown",
   "metadata": {},
   "source": [
    "**Ejercicio 6:** ¿Se recauda más con las multas pronto pago o con las pagadas fuera de plazo? (recuerda que el importe de las pronto pago lleva un descuento del 50%)"
   ]
  },
  {
   "cell_type": "code",
   "execution_count": 18,
   "metadata": {},
   "outputs": [
    {
     "name": "stdout",
     "output_type": "stream",
     "text": [
      "Total collected with early payment (50% discount): 14,316,180.00€\n",
      "Total collected without discount: 2,007,210.00€\n",
      "\n",
      "More money is collected from early payment fines\n"
     ]
    }
   ],
   "source": [
    "early_payment = df[df['DESCUENTO'] == 'SI']['IMP_BOL'].sum() * 0.5\n",
    "regular_payment = df[df['DESCUENTO'] == 'NO']['IMP_BOL'].sum()\n",
    "\n",
    "print(f\"Total collected with early payment (50% discount): {early_payment:,.2f}€\")\n",
    "print(f\"Total collected without discount: {regular_payment:,.2f}€\")\n",
    "\n",
    "if early_payment > regular_payment:\n",
    "    print(\"\\nMore money is collected from early payment fines\")\n",
    "else:\n",
    "    print(\"\\nMore money is collected from late payment fines\")\n"
   ]
  }
 ],
 "metadata": {
  "kernelspec": {
   "display_name": "Python 3",
   "language": "python",
   "name": "python3"
  },
  "language_info": {
   "codemirror_mode": {
    "name": "ipython",
    "version": 3
   },
   "file_extension": ".py",
   "mimetype": "text/x-python",
   "name": "python",
   "nbconvert_exporter": "python",
   "pygments_lexer": "ipython3",
   "version": "3.12.7"
  },
  "toc": {
   "base_numbering": 1,
   "nav_menu": {},
   "number_sections": true,
   "sideBar": true,
   "skip_h1_title": false,
   "title_cell": "Table of Contents",
   "title_sidebar": "Contents",
   "toc_cell": false,
   "toc_position": {},
   "toc_section_display": true,
   "toc_window_display": false
  }
 },
 "nbformat": 4,
 "nbformat_minor": 2
}
