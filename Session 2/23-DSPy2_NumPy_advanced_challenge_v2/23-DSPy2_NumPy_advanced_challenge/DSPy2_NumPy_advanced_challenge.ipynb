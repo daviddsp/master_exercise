{
 "cells": [
  {
   "cell_type": "markdown",
   "metadata": {},
   "source": [
    "<img src=\"mioti.png\" style=\"height: 100px\">\n",
    "<center style=\"color:#888\">Data Science with Python</center>\n",
    "\n",
    "# DSPy2. NumPy \"advanced\". Challenge"
   ]
  },
  {
   "cell_type": "markdown",
   "metadata": {
    "toc": true
   },
   "source": [
    "<h1>Table of Contents<span class=\"tocSkip\"></span></h1>\n",
    "<div class=\"toc\"><ul class=\"toc-item\"><li><span><a href=\"#Broadcasting-into-practice:-feature-scaling-through-standarization\" data-toc-modified-id=\"Broadcasting-into-practice:-feature-scaling-through-standarization-1\"><span class=\"toc-item-num\">1&nbsp;&nbsp;</span>Broadcasting into practice: feature scaling through standarization</a></span></li><li><span><a href=\"#Sistemas-de-coordenadas---Vectorización\" data-toc-modified-id=\"Sistemas-de-coordenadas---Vectorización-2\"><span class=\"toc-item-num\">2&nbsp;&nbsp;</span>Sistemas de coordenadas - Vectorización</a></span></li></ul></div>"
   ]
  },
  {
   "cell_type": "markdown",
   "metadata": {},
   "source": [
    "## Broadcasting into practice: feature scaling through standarization\n",
    "\n",
    "Con algunas excepciones, los algoritmos de Machine Learning no funcionan del todo bien si los atributos numéricos que se les pasan tienen escalas muy diferentes ([further reading](http://scikit-learn.org/stable/auto_examples/preprocessing/plot_scaling_importance.html)). Una técnica que puede usarse para que todos los atributos tengan la misma escala es la estandarización: sustraerles la media (para que sea 0) y dividirlos por la desviación típica (de modo que la varianza resultante sea 1). "
   ]
  },
  {
   "cell_type": "markdown",
   "metadata": {},
   "source": [
    "a) Imaginemos que tenemos un array con datos de un sensor en una playa, que mide tres atributos como serían viento, oleaje y temperatura, en distintas unidades que tienen distintas escalas. Esas mediciones nos llegan en un array con 3 columnas (una por feature) y 1000 filas (una fila por cada instante de tiempo del que tenemos las medidas). "
   ]
  },
  {
   "cell_type": "code",
   "execution_count": 9,
   "metadata": {},
   "outputs": [
    {
     "data": {
      "text/plain": [
       "(1000, 3)"
      ]
     },
     "execution_count": 9,
     "metadata": {},
     "output_type": "execute_result"
    }
   ],
   "source": [
    "import numpy as np\n",
    "data = np.random.normal(loc=[-10, 0, 10], scale=[2, 1, 2], size=(1000,3))\n",
    "data.shape"
   ]
  },
  {
   "cell_type": "markdown",
   "metadata": {},
   "source": [
    "Estandariza esa matriz de manera vectorial: réstale la media por columna y divide por la desviación típica de cada columna."
   ]
  },
  {
   "cell_type": "markdown",
   "metadata": {},
   "source": [
    "## Resultado"
   ]
  },
  {
   "cell_type": "code",
   "execution_count": 10,
   "metadata": {},
   "outputs": [
    {
     "name": "stdout",
     "output_type": "stream",
     "text": [
      "Resultado de la estandarización:\n"
     ]
    },
    {
     "data": {
      "text/plain": [
       "array([[ 1.60643085,  0.0920528 , -0.36273588],\n",
       "       [ 1.62944031, -2.13960803,  1.04674108],\n",
       "       [ 0.18633037,  1.20434552, -1.32536152],\n",
       "       ...,\n",
       "       [ 1.41976511,  0.55250059,  0.4842845 ],\n",
       "       [-1.41077194, -0.05328049, -1.49345576],\n",
       "       [ 0.35405445, -2.96623923,  0.66017562]])"
      ]
     },
     "execution_count": 10,
     "metadata": {},
     "output_type": "execute_result"
    }
   ],
   "source": [
    "# Calculamos la media y desviación típica por columna\n",
    "means = np.mean(data, axis=0)\n",
    "stds = np.std(data, axis=0)\n",
    "\n",
    "# Estandarizamos restando la media y dividiendo por la desviación típica\n",
    "data_standardized = (data - means) / stds\n",
    "\n",
    "print(f\"Resultado de la estandarización:\")\n",
    "data_standardized\n"
   ]
  },
  {
   "cell_type": "markdown",
   "metadata": {},
   "source": [
    "b) Imaginemos ahora que el array 2d tiene una fila por cada feature y una columna por cada medición (la transpuesta de la matriz anterior). ¿Cómo vectorizamos la operación ahora? (réstale la media por fila y divide por la desviación típica por fila). ¡No vale transponer data!"
   ]
  },
  {
   "cell_type": "code",
   "execution_count": 16,
   "metadata": {
    "scrolled": true
   },
   "outputs": [
    {
     "data": {
      "text/plain": [
       "(3, 1000)"
      ]
     },
     "execution_count": 16,
     "metadata": {},
     "output_type": "execute_result"
    }
   ],
   "source": [
    "data = np.random.normal(loc=[-10, 0, 10], scale=[2, 1, 2], size=(1000,3)).T\n",
    "data.shape"
   ]
  },
  {
   "cell_type": "markdown",
   "metadata": {},
   "source": [
    "## Resultado:"
   ]
  },
  {
   "cell_type": "code",
   "execution_count": 19,
   "metadata": {},
   "outputs": [
    {
     "name": "stdout",
     "output_type": "stream",
     "text": [
      "Resultado de la estandarización:\n"
     ]
    },
    {
     "data": {
      "text/plain": [
       "array([[ 0.29976233,  1.43131052, -0.07581366, ..., -0.50150994,\n",
       "         0.37934248,  0.85049511],\n",
       "       [-1.92083575, -0.06230162,  0.37469413, ..., -0.79926887,\n",
       "        -1.3127571 ,  0.39555998],\n",
       "       [-0.89164226,  0.37080875, -0.65191739, ...,  1.29409695,\n",
       "         0.63526369, -0.08257335]])"
      ]
     },
     "execution_count": 19,
     "metadata": {},
     "output_type": "execute_result"
    }
   ],
   "source": [
    "# Calculamos la media y desviación típica por fila (axis=1)\n",
    "means = np.mean(data, axis=1, keepdims=True)\n",
    "stds = np.std(data, axis=1, keepdims=True)\n",
    "\n",
    "# Estandarizamos restando la media y dividiendo por la desviación típica\n",
    "data_standardized_vectorized = (data - means) / stds\n",
    "\n",
    "print(f\"Resultado de la estandarización:\")\n",
    "data_standardized_vectorized\n"
   ]
  },
  {
   "cell_type": "markdown",
   "metadata": {},
   "source": [
    "## Sistemas de coordenadas - Vectorización"
   ]
  },
  {
   "cell_type": "markdown",
   "metadata": {},
   "source": [
    "Vamos a escribir funciones para convertir puntos dados en un sistema de coordenadas cartesianas a los mismos puntos expresados en un sistema de coordenadas polares.\n",
    "\n",
    "<img src=\"coordinates.png\" style=\"height: 200px;float: left\">\n",
    "\n",
    "Dado un punto en coordenadas cartesianas \\((x,y)\\), sus correspondientes coordenadas polares \\((r, \\varphi)\\) se obtienen como sigue:\n",
    "\n",
    "\n",
    "\\begin{equation}\n",
    "r = \\sqrt{(x^2+y^2)}\n",
    "\\end{equation}\n",
    "\\begin{equation}\n",
    "\\varphi = arctan\\left(\\frac{y}{x}\\right)\n",
    "\\end{equation}\n",
    "\n",
    "<div style=\"clear: left\"/>\n",
    "\n",
    "* Escribe una función usando NumPy y otra basada en Python puro tal que, dado un array o lista, respectivamente, de coordenadas cartesianas, devuelva un array o lista de coordenadas polares. \n",
    "* Compara su rendimiento (hint: magic commands de Jupyter notebook)\n",
    "\n",
    "\n"
   ]
  },
  {
   "cell_type": "code",
   "execution_count": 27,
   "metadata": {},
   "outputs": [
    {
     "data": {
      "text/plain": [
       "array([[0.20142165, 0.50462637],\n",
       "       [0.43316967, 0.97813611],\n",
       "       [0.10331822, 0.21788679],\n",
       "       ...,\n",
       "       [0.99508219, 0.87627841],\n",
       "       [0.46698053, 0.9004312 ],\n",
       "       [0.15062576, 0.11129736]])"
      ]
     },
     "execution_count": 27,
     "metadata": {},
     "output_type": "execute_result"
    }
   ],
   "source": [
    "num_muestras_input = 10000\n",
    "Z_cartesian = np.random.random((num_muestras_input,2))\n",
    "Z_cartesian"
   ]
  },
  {
   "cell_type": "markdown",
   "metadata": {},
   "source": [
    "# Result:"
   ]
  },
  {
   "cell_type": "markdown",
   "metadata": {},
   "source": [
    "## Function in Python"
   ]
  },
  {
   "cell_type": "code",
   "execution_count": 34,
   "metadata": {},
   "outputs": [],
   "source": [
    "import math\n",
    "def calculate_polar_coordinates_of_cartesian_coordinates_python(coordinates: list):\n",
    "    r = []\n",
    "    theta = []\n",
    "    for x, y in coordinates:\n",
    "        radius = math.sqrt(x**2 + y**2)\n",
    "        angle = math.atan2(y, x)\n",
    "        r.append(radius)\n",
    "        theta.append(angle)\n",
    "    return r, theta"
   ]
  },
  {
   "cell_type": "markdown",
   "metadata": {},
   "source": [
    "# Function with NumPy"
   ]
  },
  {
   "cell_type": "code",
   "execution_count": 35,
   "metadata": {},
   "outputs": [],
   "source": [
    "def calculate_polar_coordinates_numpy(coordinates: np.ndarray):\n",
    "    r = np.sqrt(np.sum(coordinates**2, axis=1))\n",
    "    theta = np.arctan2(coordinates[:,1], coordinates[:,0])\n",
    "    return r, theta\n",
    "\n",
    "r_numpy, theta_numpy = calculate_polar_coordinates_numpy(Z_cartesian)"
   ]
  },
  {
   "cell_type": "markdown",
   "metadata": {},
   "source": [
    "# Run both versions"
   ]
  },
  {
   "cell_type": "code",
   "execution_count": 37,
   "metadata": {},
   "outputs": [
    {
     "name": "stdout",
     "output_type": "stream",
     "text": [
      "Pure Python time: 0.0103 seconds\n",
      "NumPy time: 0.0012 seconds\n",
      "\n",
      "NumPy is 8.5 times faster\n"
     ]
    }
   ],
   "source": [
    "import time\n",
    "# Pure Python\n",
    "start_time = time.time()\n",
    "r_py, theta_py = calculate_polar_coordinates_of_cartesian_coordinates_python(Z_cartesian)\n",
    "python_time = time.time() - start_time\n",
    "print(f\"Pure Python time: {python_time:.4f} seconds\")\n",
    "\n",
    "# NumPy\n",
    "start_time = time.time()\n",
    "r_np, theta_np = calculate_polar_coordinates_numpy(Z_cartesian)\n",
    "numpy_time = time.time() - start_time\n",
    "print(f\"NumPy time: {numpy_time:.4f} seconds\")\n",
    "\n",
    "# Speedup\n",
    "speedup = python_time / numpy_time\n",
    "print(f\"\\nNumPy is {speedup:.1f} times faster\")"
   ]
  }
 ],
 "metadata": {
  "kernelspec": {
   "display_name": "Python 3",
   "language": "python",
   "name": "python3"
  },
  "language_info": {
   "codemirror_mode": {
    "name": "ipython",
    "version": 3
   },
   "file_extension": ".py",
   "mimetype": "text/x-python",
   "name": "python",
   "nbconvert_exporter": "python",
   "pygments_lexer": "ipython3",
   "version": "3.12.7"
  },
  "toc": {
   "base_numbering": 1,
   "nav_menu": {},
   "number_sections": true,
   "sideBar": true,
   "skip_h1_title": true,
   "title_cell": "Table of Contents",
   "title_sidebar": "Contents",
   "toc_cell": true,
   "toc_position": {},
   "toc_section_display": true,
   "toc_window_display": true
  },
  "varInspector": {
   "cols": {
    "lenName": 16,
    "lenType": 16,
    "lenVar": 40
   },
   "kernels_config": {
    "python": {
     "delete_cmd_postfix": "",
     "delete_cmd_prefix": "del ",
     "library": "var_list.py",
     "varRefreshCmd": "print(var_dic_list())"
    },
    "r": {
     "delete_cmd_postfix": ") ",
     "delete_cmd_prefix": "rm(",
     "library": "var_list.r",
     "varRefreshCmd": "cat(var_dic_list()) "
    }
   },
   "types_to_exclude": [
    "module",
    "function",
    "builtin_function_or_method",
    "instance",
    "_Feature"
   ],
   "window_display": false
  }
 },
 "nbformat": 4,
 "nbformat_minor": 2
}
