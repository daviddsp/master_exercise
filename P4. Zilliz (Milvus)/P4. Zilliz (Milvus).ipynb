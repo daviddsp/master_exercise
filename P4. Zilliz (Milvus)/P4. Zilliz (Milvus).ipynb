{
  "cells": [
    {
      "cell_type": "markdown",
      "metadata": {
        "vscode": {
          "languageId": "raw"
        }
      },
      "source": [
        "# 🛍️ Base de Datos Vectorial de Productos de Moda con Milvus\n",
        "\n",
        "Este notebook demuestra cómo cargar y usar una base de datos vectorial completa con **30,000 productos de moda** de Flipkart.\n",
        "\n",
        "## 🎯 Características principales:\n",
        "- **Búsqueda semántica**: Encuentra productos usando lenguaje natural\n",
        "- **Filtrado avanzado**: Por precio, marca, categoría, rating, etc.\n",
        "- **Embeddings vectoriales**: Representación semántica de productos\n",
        "- **Escalabilidad**: Maneja grandes volúmenes de datos eficientemente\n",
        "\n",
        "## 📊 Dataset:\n",
        "- **Fuente**: Flipkart Fashion Products Dataset \n",
        "- **Total productos**: 30,000 pero solo se cargaron 100 por la limitantes de Milvus\n",
        "- **Campos**: Título, descripción, marca, categoría, precios, ratings, etc.\n",
        "- **Modelo de embeddings**: sentence-transformers (768 dimensiones)\n"
      ]
    },
    {
      "cell_type": "markdown",
      "metadata": {
        "vscode": {
          "languageId": "raw"
        }
      },
      "source": [
        "## 🔧 Paso 1: Instalación y Configuración\n"
      ]
    },
    {
      "cell_type": "code",
      "execution_count": 1,
      "metadata": {},
      "outputs": [
        {
          "name": "stdout",
          "output_type": "stream",
          "text": [
            "Requirement already satisfied: pymilvus in /Users/abrahamsolorzanopenaloza/miniconda3/envs/mioti_env/lib/python3.11/site-packages (2.5.11)\n",
            "Requirement already satisfied: pymilvus-model in /Users/abrahamsolorzanopenaloza/miniconda3/envs/mioti_env/lib/python3.11/site-packages (0.3.2)\n",
            "Requirement already satisfied: tqdm in /Users/abrahamsolorzanopenaloza/miniconda3/envs/mioti_env/lib/python3.11/site-packages (4.67.1)\n",
            "Requirement already satisfied: pandas in /Users/abrahamsolorzanopenaloza/miniconda3/envs/mioti_env/lib/python3.11/site-packages (2.3.0)\n",
            "Requirement already satisfied: setuptools>69 in /Users/abrahamsolorzanopenaloza/miniconda3/envs/mioti_env/lib/python3.11/site-packages (from pymilvus) (78.1.1)\n",
            "Requirement already satisfied: grpcio<=1.67.1,>=1.49.1 in /Users/abrahamsolorzanopenaloza/miniconda3/envs/mioti_env/lib/python3.11/site-packages (from pymilvus) (1.67.1)\n",
            "Requirement already satisfied: protobuf>=3.20.0 in /Users/abrahamsolorzanopenaloza/miniconda3/envs/mioti_env/lib/python3.11/site-packages (from pymilvus) (6.31.1)\n",
            "Requirement already satisfied: python-dotenv<2.0.0,>=1.0.1 in /Users/abrahamsolorzanopenaloza/miniconda3/envs/mioti_env/lib/python3.11/site-packages (from pymilvus) (1.1.0)\n",
            "Requirement already satisfied: ujson>=2.0.0 in /Users/abrahamsolorzanopenaloza/miniconda3/envs/mioti_env/lib/python3.11/site-packages (from pymilvus) (5.10.0)\n",
            "Requirement already satisfied: milvus-lite>=2.4.0 in /Users/abrahamsolorzanopenaloza/miniconda3/envs/mioti_env/lib/python3.11/site-packages (from pymilvus) (2.4.12)\n",
            "Requirement already satisfied: transformers>=4.36.0 in /Users/abrahamsolorzanopenaloza/miniconda3/envs/mioti_env/lib/python3.11/site-packages (from pymilvus-model) (4.52.4)\n",
            "Requirement already satisfied: onnxruntime in /Users/abrahamsolorzanopenaloza/miniconda3/envs/mioti_env/lib/python3.11/site-packages (from pymilvus-model) (1.22.0)\n",
            "Requirement already satisfied: scipy>=1.10.0 in /Users/abrahamsolorzanopenaloza/miniconda3/envs/mioti_env/lib/python3.11/site-packages (from pymilvus-model) (1.15.3)\n",
            "Requirement already satisfied: numpy in /Users/abrahamsolorzanopenaloza/miniconda3/envs/mioti_env/lib/python3.11/site-packages (from pymilvus-model) (2.3.0)\n",
            "Requirement already satisfied: python-dateutil>=2.8.2 in /Users/abrahamsolorzanopenaloza/miniconda3/envs/mioti_env/lib/python3.11/site-packages (from pandas) (2.9.0.post0)\n",
            "Requirement already satisfied: pytz>=2020.1 in /Users/abrahamsolorzanopenaloza/miniconda3/envs/mioti_env/lib/python3.11/site-packages (from pandas) (2025.2)\n",
            "Requirement already satisfied: tzdata>=2022.7 in /Users/abrahamsolorzanopenaloza/miniconda3/envs/mioti_env/lib/python3.11/site-packages (from pandas) (2025.2)\n",
            "Requirement already satisfied: six>=1.5 in /Users/abrahamsolorzanopenaloza/miniconda3/envs/mioti_env/lib/python3.11/site-packages (from python-dateutil>=2.8.2->pandas) (1.17.0)\n",
            "Requirement already satisfied: filelock in /Users/abrahamsolorzanopenaloza/miniconda3/envs/mioti_env/lib/python3.11/site-packages (from transformers>=4.36.0->pymilvus-model) (3.18.0)\n",
            "Requirement already satisfied: huggingface-hub<1.0,>=0.30.0 in /Users/abrahamsolorzanopenaloza/miniconda3/envs/mioti_env/lib/python3.11/site-packages (from transformers>=4.36.0->pymilvus-model) (0.33.0)\n",
            "Requirement already satisfied: packaging>=20.0 in /Users/abrahamsolorzanopenaloza/miniconda3/envs/mioti_env/lib/python3.11/site-packages (from transformers>=4.36.0->pymilvus-model) (25.0)\n",
            "Requirement already satisfied: pyyaml>=5.1 in /Users/abrahamsolorzanopenaloza/miniconda3/envs/mioti_env/lib/python3.11/site-packages (from transformers>=4.36.0->pymilvus-model) (6.0.2)\n",
            "Requirement already satisfied: regex!=2019.12.17 in /Users/abrahamsolorzanopenaloza/miniconda3/envs/mioti_env/lib/python3.11/site-packages (from transformers>=4.36.0->pymilvus-model) (2024.11.6)\n",
            "Requirement already satisfied: requests in /Users/abrahamsolorzanopenaloza/miniconda3/envs/mioti_env/lib/python3.11/site-packages (from transformers>=4.36.0->pymilvus-model) (2.32.4)\n",
            "Requirement already satisfied: tokenizers<0.22,>=0.21 in /Users/abrahamsolorzanopenaloza/miniconda3/envs/mioti_env/lib/python3.11/site-packages (from transformers>=4.36.0->pymilvus-model) (0.21.1)\n",
            "Requirement already satisfied: safetensors>=0.4.3 in /Users/abrahamsolorzanopenaloza/miniconda3/envs/mioti_env/lib/python3.11/site-packages (from transformers>=4.36.0->pymilvus-model) (0.5.3)\n",
            "Requirement already satisfied: fsspec>=2023.5.0 in /Users/abrahamsolorzanopenaloza/miniconda3/envs/mioti_env/lib/python3.11/site-packages (from huggingface-hub<1.0,>=0.30.0->transformers>=4.36.0->pymilvus-model) (2025.5.1)\n",
            "Requirement already satisfied: typing-extensions>=3.7.4.3 in /Users/abrahamsolorzanopenaloza/miniconda3/envs/mioti_env/lib/python3.11/site-packages (from huggingface-hub<1.0,>=0.30.0->transformers>=4.36.0->pymilvus-model) (4.14.0)\n",
            "Requirement already satisfied: hf-xet<2.0.0,>=1.1.2 in /Users/abrahamsolorzanopenaloza/miniconda3/envs/mioti_env/lib/python3.11/site-packages (from huggingface-hub<1.0,>=0.30.0->transformers>=4.36.0->pymilvus-model) (1.1.3)\n",
            "Requirement already satisfied: coloredlogs in /Users/abrahamsolorzanopenaloza/miniconda3/envs/mioti_env/lib/python3.11/site-packages (from onnxruntime->pymilvus-model) (15.0.1)\n",
            "Requirement already satisfied: flatbuffers in /Users/abrahamsolorzanopenaloza/miniconda3/envs/mioti_env/lib/python3.11/site-packages (from onnxruntime->pymilvus-model) (25.2.10)\n",
            "Requirement already satisfied: sympy in /Users/abrahamsolorzanopenaloza/miniconda3/envs/mioti_env/lib/python3.11/site-packages (from onnxruntime->pymilvus-model) (1.14.0)\n",
            "Requirement already satisfied: humanfriendly>=9.1 in /Users/abrahamsolorzanopenaloza/miniconda3/envs/mioti_env/lib/python3.11/site-packages (from coloredlogs->onnxruntime->pymilvus-model) (10.0)\n",
            "Requirement already satisfied: charset_normalizer<4,>=2 in /Users/abrahamsolorzanopenaloza/miniconda3/envs/mioti_env/lib/python3.11/site-packages (from requests->transformers>=4.36.0->pymilvus-model) (3.4.2)\n",
            "Requirement already satisfied: idna<4,>=2.5 in /Users/abrahamsolorzanopenaloza/miniconda3/envs/mioti_env/lib/python3.11/site-packages (from requests->transformers>=4.36.0->pymilvus-model) (3.10)\n",
            "Requirement already satisfied: urllib3<3,>=1.21.1 in /Users/abrahamsolorzanopenaloza/miniconda3/envs/mioti_env/lib/python3.11/site-packages (from requests->transformers>=4.36.0->pymilvus-model) (2.4.0)\n",
            "Requirement already satisfied: certifi>=2017.4.17 in /Users/abrahamsolorzanopenaloza/miniconda3/envs/mioti_env/lib/python3.11/site-packages (from requests->transformers>=4.36.0->pymilvus-model) (2025.6.15)\n",
            "Requirement already satisfied: mpmath<1.4,>=1.1.0 in /Users/abrahamsolorzanopenaloza/miniconda3/envs/mioti_env/lib/python3.11/site-packages (from sympy->onnxruntime->pymilvus-model) (1.3.0)\n",
            "Note: you may need to restart the kernel to use updated packages.\n"
          ]
        }
      ],
      "source": [
        "%pip install -U pymilvus pymilvus-model tqdm pandas "
      ]
    },
    {
      "cell_type": "markdown",
      "metadata": {},
      "source": [
        "# Importar Librerias"
      ]
    },
    {
      "cell_type": "code",
      "execution_count": 2,
      "metadata": {},
      "outputs": [
        {
          "name": "stderr",
          "output_type": "stream",
          "text": [
            "/Users/abrahamsolorzanopenaloza/miniconda3/envs/mioti_env/lib/python3.11/site-packages/tqdm/auto.py:21: TqdmWarning: IProgress not found. Please update jupyter and ipywidgets. See https://ipywidgets.readthedocs.io/en/stable/user_install.html\n",
            "  from .autonotebook import tqdm as notebook_tqdm\n",
            "None of PyTorch, TensorFlow >= 2.0, or Flax have been found. Models won't be available and only tokenizers, configuration and file/data utilities can be used.\n"
          ]
        },
        {
          "name": "stdout",
          "output_type": "stream",
          "text": [
            "✅ Dependencias instaladas correctamente\n"
          ]
        }
      ],
      "source": [
        "# Importar librerías\n",
        "from pymilvus import MilvusClient, model\n",
        "import pandas as pd\n",
        "import json\n",
        "from typing import List, Dict\n",
        "\n",
        "print(\"✅ Dependencias instaladas correctamente\")"
      ]
    },
    {
      "cell_type": "code",
      "execution_count": 7,
      "metadata": {},
      "outputs": [
        {
          "name": "stdout",
          "output_type": "stream",
          "text": [
            "Requirement already satisfied: pymilvus in /Users/abrahamsolorzanopenaloza/miniconda3/envs/mioti_env/lib/python3.11/site-packages (2.5.11)\n",
            "Requirement already satisfied: pymilvus-model in /Users/abrahamsolorzanopenaloza/miniconda3/envs/mioti_env/lib/python3.11/site-packages (0.3.2)\n",
            "Requirement already satisfied: tqdm in /Users/abrahamsolorzanopenaloza/miniconda3/envs/mioti_env/lib/python3.11/site-packages (4.67.1)\n",
            "Requirement already satisfied: pandas in /Users/abrahamsolorzanopenaloza/miniconda3/envs/mioti_env/lib/python3.11/site-packages (2.3.0)\n",
            "Requirement already satisfied: setuptools>69 in /Users/abrahamsolorzanopenaloza/miniconda3/envs/mioti_env/lib/python3.11/site-packages (from pymilvus) (78.1.1)\n",
            "Requirement already satisfied: grpcio<=1.67.1,>=1.49.1 in /Users/abrahamsolorzanopenaloza/miniconda3/envs/mioti_env/lib/python3.11/site-packages (from pymilvus) (1.67.1)\n",
            "Requirement already satisfied: protobuf>=3.20.0 in /Users/abrahamsolorzanopenaloza/miniconda3/envs/mioti_env/lib/python3.11/site-packages (from pymilvus) (6.31.1)\n",
            "Requirement already satisfied: python-dotenv<2.0.0,>=1.0.1 in /Users/abrahamsolorzanopenaloza/miniconda3/envs/mioti_env/lib/python3.11/site-packages (from pymilvus) (1.1.0)\n",
            "Requirement already satisfied: ujson>=2.0.0 in /Users/abrahamsolorzanopenaloza/miniconda3/envs/mioti_env/lib/python3.11/site-packages (from pymilvus) (5.10.0)\n",
            "Requirement already satisfied: milvus-lite>=2.4.0 in /Users/abrahamsolorzanopenaloza/miniconda3/envs/mioti_env/lib/python3.11/site-packages (from pymilvus) (2.4.12)\n",
            "Requirement already satisfied: transformers>=4.36.0 in /Users/abrahamsolorzanopenaloza/miniconda3/envs/mioti_env/lib/python3.11/site-packages (from pymilvus-model) (4.52.4)\n",
            "Requirement already satisfied: onnxruntime in /Users/abrahamsolorzanopenaloza/miniconda3/envs/mioti_env/lib/python3.11/site-packages (from pymilvus-model) (1.22.0)\n",
            "Requirement already satisfied: scipy>=1.10.0 in /Users/abrahamsolorzanopenaloza/miniconda3/envs/mioti_env/lib/python3.11/site-packages (from pymilvus-model) (1.15.3)\n",
            "Requirement already satisfied: numpy in /Users/abrahamsolorzanopenaloza/miniconda3/envs/mioti_env/lib/python3.11/site-packages (from pymilvus-model) (2.3.0)\n",
            "Requirement already satisfied: python-dateutil>=2.8.2 in /Users/abrahamsolorzanopenaloza/miniconda3/envs/mioti_env/lib/python3.11/site-packages (from pandas) (2.9.0.post0)\n",
            "Requirement already satisfied: pytz>=2020.1 in /Users/abrahamsolorzanopenaloza/miniconda3/envs/mioti_env/lib/python3.11/site-packages (from pandas) (2025.2)\n",
            "Requirement already satisfied: tzdata>=2022.7 in /Users/abrahamsolorzanopenaloza/miniconda3/envs/mioti_env/lib/python3.11/site-packages (from pandas) (2025.2)\n",
            "Requirement already satisfied: six>=1.5 in /Users/abrahamsolorzanopenaloza/miniconda3/envs/mioti_env/lib/python3.11/site-packages (from python-dateutil>=2.8.2->pandas) (1.17.0)\n",
            "Requirement already satisfied: filelock in /Users/abrahamsolorzanopenaloza/miniconda3/envs/mioti_env/lib/python3.11/site-packages (from transformers>=4.36.0->pymilvus-model) (3.18.0)\n",
            "Requirement already satisfied: huggingface-hub<1.0,>=0.30.0 in /Users/abrahamsolorzanopenaloza/miniconda3/envs/mioti_env/lib/python3.11/site-packages (from transformers>=4.36.0->pymilvus-model) (0.33.0)\n",
            "Requirement already satisfied: packaging>=20.0 in /Users/abrahamsolorzanopenaloza/miniconda3/envs/mioti_env/lib/python3.11/site-packages (from transformers>=4.36.0->pymilvus-model) (25.0)\n",
            "Requirement already satisfied: pyyaml>=5.1 in /Users/abrahamsolorzanopenaloza/miniconda3/envs/mioti_env/lib/python3.11/site-packages (from transformers>=4.36.0->pymilvus-model) (6.0.2)\n",
            "Requirement already satisfied: regex!=2019.12.17 in /Users/abrahamsolorzanopenaloza/miniconda3/envs/mioti_env/lib/python3.11/site-packages (from transformers>=4.36.0->pymilvus-model) (2024.11.6)\n",
            "Requirement already satisfied: requests in /Users/abrahamsolorzanopenaloza/miniconda3/envs/mioti_env/lib/python3.11/site-packages (from transformers>=4.36.0->pymilvus-model) (2.32.4)\n",
            "Requirement already satisfied: tokenizers<0.22,>=0.21 in /Users/abrahamsolorzanopenaloza/miniconda3/envs/mioti_env/lib/python3.11/site-packages (from transformers>=4.36.0->pymilvus-model) (0.21.1)\n",
            "Requirement already satisfied: safetensors>=0.4.3 in /Users/abrahamsolorzanopenaloza/miniconda3/envs/mioti_env/lib/python3.11/site-packages (from transformers>=4.36.0->pymilvus-model) (0.5.3)\n",
            "Requirement already satisfied: fsspec>=2023.5.0 in /Users/abrahamsolorzanopenaloza/miniconda3/envs/mioti_env/lib/python3.11/site-packages (from huggingface-hub<1.0,>=0.30.0->transformers>=4.36.0->pymilvus-model) (2025.5.1)\n",
            "Requirement already satisfied: typing-extensions>=3.7.4.3 in /Users/abrahamsolorzanopenaloza/miniconda3/envs/mioti_env/lib/python3.11/site-packages (from huggingface-hub<1.0,>=0.30.0->transformers>=4.36.0->pymilvus-model) (4.14.0)\n",
            "Requirement already satisfied: hf-xet<2.0.0,>=1.1.2 in /Users/abrahamsolorzanopenaloza/miniconda3/envs/mioti_env/lib/python3.11/site-packages (from huggingface-hub<1.0,>=0.30.0->transformers>=4.36.0->pymilvus-model) (1.1.3)\n",
            "Requirement already satisfied: coloredlogs in /Users/abrahamsolorzanopenaloza/miniconda3/envs/mioti_env/lib/python3.11/site-packages (from onnxruntime->pymilvus-model) (15.0.1)\n",
            "Requirement already satisfied: flatbuffers in /Users/abrahamsolorzanopenaloza/miniconda3/envs/mioti_env/lib/python3.11/site-packages (from onnxruntime->pymilvus-model) (25.2.10)\n",
            "Requirement already satisfied: sympy in /Users/abrahamsolorzanopenaloza/miniconda3/envs/mioti_env/lib/python3.11/site-packages (from onnxruntime->pymilvus-model) (1.14.0)\n",
            "Requirement already satisfied: humanfriendly>=9.1 in /Users/abrahamsolorzanopenaloza/miniconda3/envs/mioti_env/lib/python3.11/site-packages (from coloredlogs->onnxruntime->pymilvus-model) (10.0)\n",
            "Requirement already satisfied: charset_normalizer<4,>=2 in /Users/abrahamsolorzanopenaloza/miniconda3/envs/mioti_env/lib/python3.11/site-packages (from requests->transformers>=4.36.0->pymilvus-model) (3.4.2)\n",
            "Requirement already satisfied: idna<4,>=2.5 in /Users/abrahamsolorzanopenaloza/miniconda3/envs/mioti_env/lib/python3.11/site-packages (from requests->transformers>=4.36.0->pymilvus-model) (3.10)\n",
            "Requirement already satisfied: urllib3<3,>=1.21.1 in /Users/abrahamsolorzanopenaloza/miniconda3/envs/mioti_env/lib/python3.11/site-packages (from requests->transformers>=4.36.0->pymilvus-model) (2.4.0)\n",
            "Requirement already satisfied: certifi>=2017.4.17 in /Users/abrahamsolorzanopenaloza/miniconda3/envs/mioti_env/lib/python3.11/site-packages (from requests->transformers>=4.36.0->pymilvus-model) (2025.6.15)\n",
            "Requirement already satisfied: mpmath<1.4,>=1.1.0 in /Users/abrahamsolorzanopenaloza/miniconda3/envs/mioti_env/lib/python3.11/site-packages (from sympy->onnxruntime->pymilvus-model) (1.3.0)\n",
            "Note: you may need to restart the kernel to use updated packages.\n"
          ]
        },
        {
          "name": "stderr",
          "output_type": "stream",
          "text": [
            "/Users/abrahamsolorzanopenaloza/miniconda3/envs/mioti_env/lib/python3.11/site-packages/tqdm/auto.py:21: TqdmWarning: IProgress not found. Please update jupyter and ipywidgets. See https://ipywidgets.readthedocs.io/en/stable/user_install.html\n",
            "  from .autonotebook import tqdm as notebook_tqdm\n",
            "None of PyTorch, TensorFlow >= 2.0, or Flax have been found. Models won't be available and only tokenizers, configuration and file/data utilities can be used.\n"
          ]
        },
        {
          "name": "stdout",
          "output_type": "stream",
          "text": [
            "✅ Dependencias instaladas correctamente\n"
          ]
        }
      ],
      "source": [
        "# Instalar dependencias necesarias\n",
        "%pip install -U pymilvus pymilvus-model tqdm pandas \n",
        "\n",
        "# Importar librerías\n",
        "from pymilvus import MilvusClient, model\n",
        "import pandas as pd\n",
        "import json\n",
        "from typing import List, Dict\n",
        "\n",
        "print(\"✅ Dependencias instaladas correctamente\")\n"
      ]
    },
    {
      "cell_type": "markdown",
      "metadata": {},
      "source": [
        "# Conexión y Búsquedas Semánticas\n",
        "\n",
        "Una vez que los datos están cargados, puedes realizar búsquedas semánticas avanzadas.\n"
      ]
    },
    {
      "cell_type": "code",
      "execution_count": 4,
      "metadata": {},
      "outputs": [
        {
          "name": "stdout",
          "output_type": "stream",
          "text": [
            "✅ Conectado a la colección 'flipkart_fashion_sample'\n",
            "📊 Base de datos lista para búsquedas\n"
          ]
        }
      ],
      "source": [
        "# Configurar conexión a Milvus\n",
        "client = MilvusClient(\n",
        "    uri=\"https://in03-fc51ec1067f53e7.serverless.gcp-us-west1.cloud.zilliz.com\",\n",
        "    token=\"e1a5f13be33e07ef22a239ffbc7ddffb08ada6250f4c7edfa0221784b304ac41627ed2db02a0e8be6e26c4e2f6b0db0d2ba2da09\"\n",
        ")\n",
        "\n",
        "# Inicializar modelo de embeddings\n",
        "embedding_fn = model.DefaultEmbeddingFunction()\n",
        "collection_name = \"flipkart_fashion_sample\"\n",
        "\n",
        "# Verificar que la colección existe\n",
        "if client.has_collection(collection_name):\n",
        "    print(f\"✅ Conectado a la colección '{collection_name}'\")\n",
        "    \n",
        "    # Obtener estadísticas básicas\n",
        "    sample = client.query(\n",
        "        collection_name=collection_name,\n",
        "        filter=\"id >= 0\",\n",
        "        output_fields=[\"id\"],\n",
        "        limit=1\n",
        "    )\n",
        "    \n",
        "    print(f\"📊 Base de datos lista para búsquedas\")\n",
        "else:\n",
        "    print(\"❌ La colección no existe. Ejecuta primero el paso de carga de datos.\")\n"
      ]
    },
    {
      "cell_type": "code",
      "execution_count": 5,
      "metadata": {},
      "outputs": [
        {
          "name": "stdout",
          "output_type": "stream",
          "text": [
            "✅ Función de búsqueda configurada\n"
          ]
        }
      ],
      "source": [
        "# Función helper para búsquedas semánticas\n",
        "def search_products(query: str, limit: int = 5, filters: str = None):\n",
        "    \"\"\"\n",
        "    Realiza búsqueda semántica de productos\n",
        "    \"\"\"\n",
        "    print(f\"🔍 Buscando: '{query}'\")\n",
        "    print(\"-\" * 60)\n",
        "    \n",
        "    # Generar vector de la consulta\n",
        "    query_vector = embedding_fn.encode_queries([query])\n",
        "    \n",
        "    # Realizar búsqueda\n",
        "    results = client.search(\n",
        "        collection_name=collection_name,\n",
        "        data=query_vector,\n",
        "        limit=limit,\n",
        "        filter=filters,\n",
        "        output_fields=[\n",
        "            \"title\", \"description\", \"brand\", \"category\", \n",
        "            \"sub_category\", \"selling_price\", \"actual_price\", \n",
        "            \"average_rating\", \"discount\", \"out_of_stock\"\n",
        "        ]\n",
        "    )\n",
        "    \n",
        "    if results and len(results[0]) > 0:\n",
        "        print(f\"✅ Encontrados {len(results[0])} resultados:\\n\")\n",
        "        \n",
        "        for i, result in enumerate(results[0], 1):\n",
        "            product = result['entity']\n",
        "            similarity = 1 - result['distance']  # Convertir distancia a similitud\n",
        "            \n",
        "            print(f\"#{i} {product.get('title', 'Sin título')}\")\n",
        "            print(f\"    🏷️  Marca: {product.get('brand', 'N/A')}\")\n",
        "            print(f\"    📁 Categoría: {product.get('category', 'N/A')} > {product.get('sub_category', 'N/A')}\")\n",
        "            print(f\"    💰 Precio: ${product.get('selling_price', 0):.0f} (antes: ${product.get('actual_price', 0):.0f})\")\n",
        "            print(f\"    🎯 Descuento: {product.get('discount', 'N/A')}\")\n",
        "            print(f\"    ⭐ Rating: {product.get('average_rating', 0)}\")\n",
        "            print(f\"    📦 Stock: {'❌ Agotado' if product.get('out_of_stock', False) else '✅ Disponible'}\")\n",
        "            print(f\"    🎯 Similitud: {similarity:.3f}\")\n",
        "            \n",
        "            # Mostrar descripción truncada\n",
        "            desc = product.get('description', '')\n",
        "            if desc:\n",
        "                desc_short = desc[:100] + \"...\" if len(desc) > 100 else desc\n",
        "                print(f\"    📝 Descripción: {desc_short}\")\n",
        "            \n",
        "            print()\n",
        "    else:\n",
        "        print(\"❌ No se encontraron resultados\")\n",
        "\n",
        "print(\"✅ Función de búsqueda configurada\")\n"
      ]
    },
    {
      "cell_type": "markdown",
      "metadata": {
        "vscode": {
          "languageId": "raw"
        }
      },
      "source": [
        "## 🎯 Ejemplos de Búsqueda Semántica\n",
        "\n",
        "Ahora puedes realizar búsquedas usando lenguaje natural. La base de datos entenderá el contexto y encontrará productos similares.\n"
      ]
    },
    {
      "cell_type": "code",
      "execution_count": 7,
      "metadata": {},
      "outputs": [
        {
          "name": "stdout",
          "output_type": "stream",
          "text": [
            "🔍 Buscando: 'camisa azul para hombre'\n",
            "------------------------------------------------------------\n",
            "✅ Encontrados 10 resultados:\n",
            "\n",
            "#1 Striped Collared Neck Casual Men Brown, Black Sweater\n",
            "    🏷️  Marca: Man\n",
            "    📁 Categoría: Clothing and Accessories > Winter Wear\n",
            "    💰 Precio: $399 (antes: $2199)\n",
            "    🎯 Descuento: 81  off\n",
            "    ⭐ Rating: 3.8\n",
            "    📦 Stock: ✅ Disponible\n",
            "    🎯 Similitud: 0.694\n",
            "    📝 Descripción: MANRA present you stylish wollen ponchos, shawls,Cardgan, Pullovers which can be wear in any occasio...\n",
            "\n",
            "#2 Solid V Neck Casual Men Purple Sweater\n",
            "    🏷️  Marca: Man\n",
            "    📁 Categoría: Clothing and Accessories > Winter Wear\n",
            "    💰 Precio: $499 (antes: $2199)\n",
            "    🎯 Descuento: 77  off\n",
            "    ⭐ Rating: 3.0\n",
            "    📦 Stock: ✅ Disponible\n",
            "    🎯 Similitud: 0.711\n",
            "    📝 Descripción: MANRA present you stylish wollen ponchos, shawls,Cardgan, Pullovers which can be wear in any occasio...\n",
            "\n",
            "#3 Striped Collared Neck Casual Men Black Sweater\n",
            "    🏷️  Marca: Man\n",
            "    📁 Categoría: Clothing and Accessories > Winter Wear\n",
            "    💰 Precio: $399 (antes: $2199)\n",
            "    🎯 Descuento: 81  off\n",
            "    ⭐ Rating: 2.7\n",
            "    📦 Stock: ✅ Disponible\n",
            "    🎯 Similitud: 0.712\n",
            "    📝 Descripción: MANRA present you stylish wollen ponchos, shawls,Cardgan, Pullovers which can be wear in any occasio...\n",
            "\n",
            "#4 Striped Collared Neck Casual Men Grey, Black Sweater\n",
            "    🏷️  Marca: Man\n",
            "    📁 Categoría: Clothing and Accessories > Winter Wear\n",
            "    💰 Precio: $399 (antes: $2199)\n",
            "    🎯 Descuento: 81  off\n",
            "    ⭐ Rating: 3.7\n",
            "    📦 Stock: ✅ Disponible\n",
            "    🎯 Similitud: 0.715\n",
            "    📝 Descripción: MANRA present you stylish wollen ponchos, shawls,Cardgan, Pullovers which can be wear in any occasio...\n",
            "\n",
            "#5 Men Striped Mid-Calf Crew (Pack of 3)\n",
            "    🏷️  Marca: Fresh Fe\n",
            "    📁 Categoría: Clothing and Accessories > Clothing Accessories\n",
            "    💰 Precio: $299 (antes: $599)\n",
            "    🎯 Descuento: 50  off\n",
            "    ⭐ Rating: 4.2\n",
            "    📦 Stock: ✅ Disponible\n",
            "    🎯 Similitud: 0.717\n",
            "\n",
            "#6 Original Cotton Flat Knit Men Striped Ankle Length (Pack of 3)\n",
            "    🏷️  Marca: REEB\n",
            "    📁 Categoría: Clothing and Accessories > Clothing Accessories\n",
            "    💰 Precio: $474 (antes: $499)\n",
            "    🎯 Descuento: 5  off\n",
            "    ⭐ Rating: 4.4\n",
            "    📦 Stock: ✅ Disponible\n",
            "    🎯 Similitud: 0.717\n",
            "    📝 Descripción: These elegant, well-designed socks are breathable so you can keep cool and stylish without sacrifici...\n",
            "\n",
            "#7 Striped V Neck Casual Men Maroon Sweater\n",
            "    🏷️  Marca: Man\n",
            "    📁 Categoría: Clothing and Accessories > Winter Wear\n",
            "    💰 Precio: $464 (antes: $2199)\n",
            "    🎯 Descuento: 78  off\n",
            "    ⭐ Rating: 3.8\n",
            "    📦 Stock: ✅ Disponible\n",
            "    🎯 Similitud: 0.718\n",
            "    📝 Descripción: MANRA present you stylish wollen ponchos, shawls,Cardgan, Pullovers which can be wear in any occasio...\n",
            "\n",
            "#8 Men Solid Mid-Calf Crew (Pack of 3)\n",
            "    🏷️  Marca: REEB\n",
            "    📁 Categoría: Clothing and Accessories > Clothing Accessories\n",
            "    💰 Precio: $187 (antes: $494)\n",
            "    🎯 Descuento: 62  off\n",
            "    ⭐ Rating: 3.6\n",
            "    📦 Stock: ✅ Disponible\n",
            "    🎯 Similitud: 0.724\n",
            "    📝 Descripción: Package contains 3 pairs of sports socks made from 100  combed cotton and elastic for superior grip ...\n",
            "\n",
            "#9 SayItLoud Men Vest\n",
            "    🏷️  Marca: \n",
            "    📁 Categoría: Clothing and Accessories > Innerwear and Swimwear\n",
            "    💰 Precio: $299 (antes: $799)\n",
            "    🎯 Descuento: 62  off\n",
            "    ⭐ Rating: 3.4\n",
            "    📦 Stock: ✅ Disponible\n",
            "    🎯 Similitud: 0.727\n",
            "    📝 Descripción: Presenting, premium cotton Vest from the leading youth brand, SayItLoud.in. Now make your workout mo...\n",
            "\n",
            "#10 SayItLoud Men Vest\n",
            "    🏷️  Marca: \n",
            "    📁 Categoría: Clothing and Accessories > Innerwear and Swimwear\n",
            "    💰 Precio: $299 (antes: $799)\n",
            "    🎯 Descuento: 62  off\n",
            "    ⭐ Rating: 3.4\n",
            "    📦 Stock: ✅ Disponible\n",
            "    🎯 Similitud: 0.728\n",
            "    📝 Descripción: Presenting, premium cotton Vest from the leading youth brand, SayItLoud.in. Now make your workout mo...\n",
            "\n"
          ]
        }
      ],
      "source": [
        "# Ejemplo 1: Búsqueda básica\n",
        "search_products(\"camisa azul para hombre\", limit=10)\n"
      ]
    },
    {
      "cell_type": "code",
      "execution_count": 8,
      "metadata": {},
      "outputs": [
        {
          "name": "stdout",
          "output_type": "stream",
          "text": [
            "🔍 Buscando: 'zapatos deportivos'\n",
            "------------------------------------------------------------\n",
            "✅ Encontrados 3 resultados:\n",
            "\n",
            "#1 Solid Men Black Track Pants\n",
            "    🏷️  Marca: SMART ATTRACTI\n",
            "    📁 Categoría: Clothing and Accessories > Bottomwear\n",
            "    💰 Precio: $288 (antes: $1199)\n",
            "    🎯 Descuento: 75  off\n",
            "    ⭐ Rating: 4.7\n",
            "    📦 Stock: ✅ Disponible\n",
            "    🎯 Similitud: 0.796\n",
            "    📝 Descripción: SMART ATTRACTION AIR Jogger Trackpants for men - for a sporty move gear up, get fit and enjoy a heal...\n",
            "\n",
            "#2 Aztec Men Round or Crew Green, Black T-Shirt\n",
            "    🏷️  Marca: Fairdea\n",
            "    📁 Categoría: Clothing and Accessories > Topwear\n",
            "    💰 Precio: $284 (antes: $1299)\n",
            "    🎯 Descuento: 78  off\n",
            "    ⭐ Rating: 2.6\n",
            "    📦 Stock: ✅ Disponible\n",
            "    🎯 Similitud: 0.803\n",
            "\n",
            "#3 Sporty Men Round Neck Black T-Shirt\n",
            "    🏷️  Marca: REEB\n",
            "    📁 Categoría: Clothing and Accessories > Topwear\n",
            "    💰 Precio: $919 (antes: $1899)\n",
            "    🎯 Descuento: 51  off\n",
            "    ⭐ Rating: 3.6\n",
            "    📦 Stock: ✅ Disponible\n",
            "    🎯 Similitud: 0.807\n",
            "    📝 Descripción: TS Archive Evo Tee Q1\n",
            "\n"
          ]
        }
      ],
      "source": [
        "# Ejemplo 2: Búsqueda con filtros de precio\n",
        "search_products(\"zapatos deportivos\", limit=3, filters=\"selling_price < 1000\")\n"
      ]
    },
    {
      "cell_type": "code",
      "execution_count": 9,
      "metadata": {},
      "outputs": [
        {
          "name": "stdout",
          "output_type": "stream",
          "text": [
            "🔍 Buscando: 'vestido elegante para fiesta'\n",
            "------------------------------------------------------------\n",
            "✅ Encontrados 2 resultados:\n",
            "\n",
            "#1 nu-Lite Satin Tie   Cufflink (Red)\n",
            "    🏷️  Marca: \n",
            "    📁 Categoría: Clothing and Accessories > Clothing Accessories\n",
            "    💰 Precio: $599 (antes: $3299)\n",
            "    🎯 Descuento: 81  off\n",
            "    ⭐ Rating: 2.7\n",
            "    📦 Stock: ✅ Disponible\n",
            "    🎯 Similitud: 0.753\n",
            "    📝 Descripción: Wearing an elegant man tie is an effective way to make you look charming and energetic. nu-Lite incl...\n",
            "\n",
            "#2 nu-Lite Satin Tie   Cufflink (Red)\n",
            "    🏷️  Marca: \n",
            "    📁 Categoría: Clothing and Accessories > Clothing Accessories\n",
            "    💰 Precio: $499 (antes: $3299)\n",
            "    🎯 Descuento: 84  off\n",
            "    ⭐ Rating: 2.7\n",
            "    📦 Stock: ✅ Disponible\n",
            "    🎯 Similitud: 0.754\n",
            "    📝 Descripción: Wearing an elegant man tie is an effective way to make you look charming and energetic. nu-Lite incl...\n",
            "\n",
            "\n",
            "============================================================\n",
            "\n",
            "🔍 Buscando: 'ropa cómoda de algodón'\n",
            "------------------------------------------------------------\n",
            "✅ Encontrados 2 resultados:\n",
            "\n",
            "#1 Striped V Neck Casual Men Maroon Sweater\n",
            "    🏷️  Marca: Man\n",
            "    📁 Categoría: Clothing and Accessories > Winter Wear\n",
            "    💰 Precio: $464 (antes: $2199)\n",
            "    🎯 Descuento: 78  off\n",
            "    ⭐ Rating: 3.8\n",
            "    📦 Stock: ✅ Disponible\n",
            "    🎯 Similitud: 0.762\n",
            "    📝 Descripción: MANRA present you stylish wollen ponchos, shawls,Cardgan, Pullovers which can be wear in any occasio...\n",
            "\n",
            "#2 Striped Collared Neck Casual Men Brown, Black Sweater\n",
            "    🏷️  Marca: Man\n",
            "    📁 Categoría: Clothing and Accessories > Winter Wear\n",
            "    💰 Precio: $399 (antes: $2199)\n",
            "    🎯 Descuento: 81  off\n",
            "    ⭐ Rating: 3.8\n",
            "    📦 Stock: ✅ Disponible\n",
            "    🎯 Similitud: 0.771\n",
            "    📝 Descripción: MANRA present you stylish wollen ponchos, shawls,Cardgan, Pullovers which can be wear in any occasio...\n",
            "\n"
          ]
        }
      ],
      "source": [
        "# Ejemplo 3: Búsquedas más específicas\n",
        "search_products(\"vestido elegante para fiesta\", limit=2)\n",
        "print(\"\\n\" + \"=\"*60 + \"\\n\")\n",
        "search_products(\"ropa cómoda de algodón\", limit=2)\n"
      ]
    }
  ],
  "metadata": {
    "kernelspec": {
      "display_name": "mioti_env",
      "language": "python",
      "name": "python3"
    },
    "language_info": {
      "codemirror_mode": {
        "name": "ipython",
        "version": 3
      },
      "file_extension": ".py",
      "mimetype": "text/x-python",
      "name": "python",
      "nbconvert_exporter": "python",
      "pygments_lexer": "ipython3",
      "version": "3.11.13"
    }
  },
  "nbformat": 4,
  "nbformat_minor": 2
}
